{
 "cells": [
  {
   "cell_type": "markdown",
   "metadata": {},
   "source": [
    "## Introduction / Business Problem:\n",
    "### Business Understanding: \n",
    "Be Our Guest; one of the biggest Restaurant groups in the U.S, getting incredible attention, awareness and popularity with one of their restaurants in Chicago. Bill’s Chicago’s popularity; which is in Downtown Chicago and known for their award wining burgers and craft beers is expanding outside of Chicago and Be Our Guest is looking to open another restaurant in New York City with the intention to generate more revenue for the company. \n",
    "### Description of the problem:\n",
    "For Be Our Guest Stakeholders, the problem that is in question is that “What is the best area to open a restaurant in New York City for Bill’s Chicago Burgers.” The main goal is to understand the NYC restaurant market and improve probability of success and business profitability. Besides generating revenue, Be Our Guest Stakeholders are looking to improve the awareness of “Bills’ Chicago” ’s brand. \n",
    "Even though, Be Our Guest Restaurant group has many restaurants in multiple different categories in New York City, developing a new restaurant requires certain investment and research to ensure the company’s profitability and defining the restaurant location is the most important criteria when it comes to success of a restaurant. \n",
    "### Analytical Approach:\n",
    "We will be looking at the relationships of different variables and probability of success. So, we will be using a descriptive and predictive analytics as part of our data analysis.\n",
    "### Data Requirements:\n",
    "Since the solution to our problem requires a location information, we need city, borough, neighborhood information. We also need the venue and category information within these locations so we can access the best possible area to open up a restaurant in NYC. \n",
    "### Data Collection:\n",
    "Data Collection:\n",
    "Essentially, we will be using a dataset that covers all the 5 boroughs, the neighborhoods that exists in each borough, latitude and longitude coordinates.  This data set is available to use from NYU website - https://geo.nyu.edu/catalog/nyu_2451_34572 - (This dataset is also available to be run  with a wget command via json here: https://ibm.box.com/shared/static/fbpwbovar7lf8p5sgddm06cgipa2rxpe.json \n",
    "We will be using this dataset to get the borough, neighborhood, latitude and longitude coordinates. \n",
    "We will also use Foursquare developer (personal account) api to collect certain variables such as existing restaurants, restaurant categories, locations (latitude and longitude), nearby venue list in each borough and unique categories. This will allow us to see the competition, the restaurant marketplace insights and possible relationship between venue category (such as Burger Restaurant) , borough and / or neighborhood.  \n",
    "### Data Understanding and Preparation: \n",
    "By exploring the datasets from NYU and Foursquare, we will create our data frame and perform exploration to further understand variables and possible correlations. Based on our understandings we clean up the data frame so missing data values are updated or ignored, neighborhood is broken down within Boroughs, create visualizations to help us understand to further segment and cluster the neighborhoods in a certain Borough. \n",
    "We also leverage the data we get from Foursquare api around venue category type, possible analyzation of each neighborhood for common venues to see if there are any gaps that Bill’s Chicago can fill in terms of type of food (Burger Restaurant) \n",
    "### Modeling\n",
    "We are going to segment the boroughs and neighborhoods using Clustering Method – (k-means) , we can group top 5-10 venues for each neighborhood and further examine each cluster to define the best possible Neighborhood / Borough for Bill’s Chicago. "
   ]
  },
  {
   "cell_type": "markdown",
   "metadata": {},
   "source": []
  }
 ],
 "metadata": {
  "kernelspec": {
   "display_name": "Python 3",
   "language": "python",
   "name": "python3"
  },
  "language_info": {
   "codemirror_mode": {
    "name": "ipython",
    "version": 3
   },
   "file_extension": ".py",
   "mimetype": "text/x-python",
   "name": "python",
   "nbconvert_exporter": "python",
   "pygments_lexer": "ipython3",
   "version": "3.6.4"
  }
 },
 "nbformat": 4,
 "nbformat_minor": 2
}
